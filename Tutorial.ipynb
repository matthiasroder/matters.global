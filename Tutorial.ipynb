{
 "cells": [
  {
   "cell_type": "code",
   "execution_count": 1,
   "id": "de599942-f84a-4ad1-a567-bb21eb8c3d18",
   "metadata": {},
   "outputs": [],
   "source": [
    "import json\n",
    "import os\n",
    "from openai import OpenAI\n",
    "import mattersglobal as mg"
   ]
  },
  {
   "cell_type": "code",
   "execution_count": 2,
   "id": "65fba0a7-6b2b-4c2a-99f4-56718108e326",
   "metadata": {},
   "outputs": [],
   "source": [
    "manager = mg.ProblemManager()"
   ]
  },
  {
   "cell_type": "code",
   "execution_count": 3,
   "id": "b53697da-6858-4be0-bb2e-e167557765ed",
   "metadata": {},
   "outputs": [],
   "source": [
    "problem = manager.create_problem(\"I cannot let go of my wife who has left me.\")"
   ]
  },
  {
   "cell_type": "code",
   "execution_count": 4,
   "id": "8bea3e11-6b33-4a5f-8391-c52543e6c853",
   "metadata": {},
   "outputs": [
    {
     "data": {
      "text/plain": [
       "Problem(description='I cannot let go of my wife who has left me.', state=<ProblemState.NOT_SOLVED: 'not_solved'>, conditions=[], solutions=[])"
      ]
     },
     "execution_count": 4,
     "metadata": {},
     "output_type": "execute_result"
    }
   ],
   "source": [
    "problem"
   ]
  },
  {
   "cell_type": "code",
   "execution_count": 5,
   "id": "dff11789-bd37-44a0-81ab-301eab0322d5",
   "metadata": {},
   "outputs": [
    {
     "data": {
      "text/plain": [
       "'./data/test.py'"
      ]
     },
     "execution_count": 5,
     "metadata": {},
     "output_type": "execute_result"
    }
   ],
   "source": [
    "manager.save_problems('test.py')"
   ]
  }
 ],
 "metadata": {
  "kernelspec": {
   "display_name": "Python 3 (ipykernel)",
   "language": "python",
   "name": "python3"
  },
  "language_info": {
   "codemirror_mode": {
    "name": "ipython",
    "version": 3
   },
   "file_extension": ".py",
   "mimetype": "text/x-python",
   "name": "python",
   "nbconvert_exporter": "python",
   "pygments_lexer": "ipython3",
   "version": "3.12.9"
  }
 },
 "nbformat": 4,
 "nbformat_minor": 5
}
